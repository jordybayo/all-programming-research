{
 "cells": [
  {
   "cell_type": "markdown",
   "metadata": {},
   "source": [
    "# Linear Regression using python"
   ]
  },
  {
   "cell_type": "code",
   "execution_count": 23,
   "metadata": {},
   "outputs": [
    {
     "name": "stdout",
     "output_type": "stream",
     "text": [
      "-215.0 -170.0\n",
      "1.2647058823529411 -0.19411764705882328\n",
      "estimated Coeficient : \n",
      "bo = -0.19411764705882328 \n",
      "b1 = 1.2647058823529411\n"
     ]
    },
    {
     "data": {
      "image/png": "[encoded data removed]",
      "text/plain": [
       "<Figure size 432x288 with 1 Axes>"
      ]
     },
     "metadata": {
      "needs_background": "light"
     },
     "output_type": "display_data"
    }
   ],
   "source": [
    "import pandas as pd\n",
    "import numpy as np\n",
    "import matplotlib.pyplot as plt\n",
    "\n",
    "def estimate_coefficient(x,y):\n",
    "    n = np.size(x)\n",
    "    mean_x, mean_y = np.mean(x), np.mean(y)\n",
    "    SS_xy = np.sum(y*x - n*mean_y*mean_x)\n",
    "    SS_xx = np.sum(x*x - n*mean_x*mean_x)\n",
    "    b1 = SS_xy /SS_xx\n",
    "    b0 = mean_y - b1*mean_x\n",
    "    return (b0, b1)\n",
    "\n",
    "def plot_regression_line(x, y, b):\n",
    "    plt.scatter(x,y,color='m', marker=\"o\")\n",
    "    y_pred = b[0]+b[1]*x\n",
    "    plt.plot(x,y_pred, color='g')\n",
    "    plt.xlabel('size')\n",
    "    plt.ylabel('cost')\n",
    "    plt.show()\n",
    "    \n",
    "x = np.array([1,2,3,4,5,6,7,8,9,10])\n",
    "y = np.array([300, 350,500,700,800,850,900,900,1000,1200])\n",
    "\n",
    "b = estimate_coefficient(x,y)\n",
    "print(\"estimated Coeficient : \\nbo = {} \\nb1 = {}\".format(b[0],b[1]))\n",
    "plot_regression_line(x, y, b)"
   ]
  },
  {
   "cell_type": "code",
   "execution_count": null,
   "metadata": {},
   "outputs": [],
   "source": []
  }
 ],
 "metadata": {
  "kernelspec": {
   "display_name": "Python 3",
   "language": "python",
   "name": "python3"
  },
  "language_info": {
   "codemirror_mode": {
    "name": "ipython",
    "version": 3
   },
   "file_extension": ".py",
   "mimetype": "text/x-python",
   "name": "python",
   "nbconvert_exporter": "python",
   "pygments_lexer": "ipython3",
   "version": "3.7.3"
  }
 },
 "nbformat": 4,
 "nbformat_minor": 2
}
